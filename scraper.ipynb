{
 "cells": [
  {
   "cell_type": "markdown",
   "id": "6bec64bf",
   "metadata": {
    "id": "6bec64bf"
   },
   "source": [
    "# Skyrim Wiki Scraper"
   ]
  },
  {
   "cell_type": "code",
   "execution_count": 1,
   "id": "e55f28a3",
   "metadata": {
    "id": "e55f28a3"
   },
   "outputs": [],
   "source": [
    "from bs4 import BeautifulSoup as bs\n",
    "import requests"
   ]
  },
  {
   "cell_type": "code",
   "execution_count": 2,
   "id": "0da1f5b6",
   "metadata": {
    "id": "0da1f5b6"
   },
   "outputs": [],
   "source": [
    "# Function to scrape the wiki data\n",
    "def get_information(full_path):\n",
    "\n",
    "  r = requests.get(full_path)\n",
    "  # Convert to beautiful soup object\n",
    "  soup = bs(r.content)\n",
    "  # Print out the HTML\n",
    "  contents = soup.prettify()\n",
    "  info_box = soup.find(class_='wikitable infobox')\n",
    "  info_rows = info_box.find_all('tr')\n",
    "\n",
    "  character_info = {}\n",
    "\n",
    "  for index, row in enumerate(info_rows):\n",
    "    character_info['Source'] = full_path\n",
    "    if index == 0:\n",
    "      character_info['Name'] = row.find('th').get_text().split('\\n')[0]\n",
    "    elif row.find('td') == None:\n",
    "      content_key = row.find('th').get_text()\n",
    "      character_info[content_key] = True  \n",
    "    else:\n",
    "      if (len(row.find_all('th')) and len(row.find_all('td'))) > 1:\n",
    "        content_keys = row.find_all('th')\n",
    "        content_values = row.find_all('td')\n",
    "        for key, value in zip(content_keys, content_values):\n",
    "          character_info[key.get_text()] = value.get_text()\n",
    "\n",
    "      elif row.find_all('img'):\n",
    "        content_key = row.find('th').get_text()\n",
    "        content_value = ''\n",
    "        for i, img in enumerate(row.select('img')):\n",
    "          if i == 1:\n",
    "            content_value=img['alt']\n",
    "        character_info[content_key] = content_value\n",
    "\n",
    "      elif len(row.select('td a')) > 1:\n",
    "        content_key = row.find('th').get_text()\n",
    "        content_value = row.find('td').get_text().replace('\\n', ', ')\n",
    "        character_info[content_key] = content_value\n",
    "\n",
    "      else:\n",
    "        content_key = row.find('th').get_text()\n",
    "        content_value = row.find('td').get_text()\n",
    "        character_info[content_key] = content_value\n",
    "  return(character_info)"
   ]
  },
  {
   "cell_type": "code",
   "execution_count": 3,
   "id": "27822590",
   "metadata": {
    "id": "27822590"
   },
   "outputs": [],
   "source": [
    "# Get the list of the links for each characters\n",
    "r = requests.get('https://en.uesp.net/wiki/Skyrim:People')\n",
    "soup = bs(r.content)\n",
    "people_list = soup.select('.wikitable tr b > a')"
   ]
  },
  {
   "cell_type": "code",
   "execution_count": 4,
   "id": "2ac86865",
   "metadata": {
    "colab": {
     "base_uri": "https://localhost:8080/"
    },
    "id": "2ac86865",
    "outputId": "252526a3-cd90-4324-f57b-62c347fcd929",
    "scrolled": true
   },
   "outputs": [
    {
     "name": "stdout",
     "output_type": "stream",
     "text": [
      "WARNING: Failed to take Followers https://en.uesp.net/wiki/Skyrim:Followers\n",
      "WARNING: Failed to take Merchants https://en.uesp.net/wiki/Skyrim:Merchants\n",
      "WARNING: Failed to take Trainers https://en.uesp.net/wiki/Skyrim:Trainers\n",
      "WARNING: Failed to take  https://en.uesp.net/wiki/Skyrim:Followers\n",
      "WARNING: Failed to take Night Mother https://en.uesp.net/wiki/Skyrim:Night_Mother\n",
      "WARNING: Failed to take Night Mother https://en.uesp.net/wiki/Skyrim:Night_Mother\n",
      "WARNING: Failed to take Rulnik Wind-Strider https://en.uesp.net/w/index.php?title=Skyrim:Rulnik_Wind-Strider&action=edit&redlink=1\n",
      "WARNING: Failed to take  https://en.uesp.net/wiki/Skyrim:Followers\n",
      "WARNING: Failed to take Unnamed Orcs https://en.uesp.net/wiki/Skyrim:Orc\n",
      "WARNING: Failed to take Armored Trolls https://en.uesp.net/wiki/Skyrim:Armored_Troll\n",
      "WARNING: Failed to take  https://en.uesp.net/wiki/Skyrim:Followers\n"
     ]
    },
    {
     "data": {
      "text/plain": [
       "1051"
      ]
     },
     "execution_count": 4,
     "metadata": {},
     "output_type": "execute_result"
    }
   ],
   "source": [
    "# Scrape the data based on the links\n",
    "characters_data = []\n",
    "base_link = 'https://en.uesp.net'\n",
    "\n",
    "for index, people in enumerate(people_list):\n",
    "  try:\n",
    "    relative_link = people['href']\n",
    "    fullpath = base_link + relative_link\n",
    "    characters_data.append(get_information(fullpath))\n",
    "  except Exception as e:\n",
    "    print('WARNING: Failed to take ' + people.get_text() + ' ' + fullpath)\n",
    "len(characters_data)"
   ]
  },
  {
   "cell_type": "code",
   "execution_count": 1,
   "id": "4abc100e",
   "metadata": {
    "id": "4abc100e"
   },
   "outputs": [],
   "source": [
    "# Function to save and load the JSON file\n",
    "import json\n",
    "\n",
    "def save_data(title, data):\n",
    "  with open(title, 'w', encoding='utf-8') as f:\n",
    "    json.dump(data, f, ensure_ascii=False, indent=2)\n",
    "\n",
    "def load_data(title):\n",
    "  with open(title, encoding='utf-8') as f:\n",
    "    return json.load(f)"
   ]
  },
  {
   "cell_type": "code",
   "execution_count": null,
   "id": "cfa51177",
   "metadata": {},
   "outputs": [],
   "source": []
  }
 ],
 "metadata": {
  "colab": {
   "collapsed_sections": [],
   "name": "scraper.ipynb",
   "provenance": []
  },
  "kernelspec": {
   "display_name": "Python 3 (ipykernel)",
   "language": "python",
   "name": "python3"
  },
  "language_info": {
   "codemirror_mode": {
    "name": "ipython",
    "version": 3
   },
   "file_extension": ".py",
   "mimetype": "text/x-python",
   "name": "python",
   "nbconvert_exporter": "python",
   "pygments_lexer": "ipython3",
   "version": "3.9.7"
  }
 },
 "nbformat": 4,
 "nbformat_minor": 5
}
